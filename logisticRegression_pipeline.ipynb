{
  "nbformat": 4,
  "nbformat_minor": 5,
  "metadata": {
    "colab": {
      "name": "logisticRegression_pipeline.ipynb",
      "provenance": [],
      "collapsed_sections": [],
      "machine_shape": "hm"
    },
    "kernelspec": {
      "display_name": "Python 3",
      "language": "python",
      "name": "python3"
    },
    "language_info": {
      "codemirror_mode": {
        "name": "ipython",
        "version": 3
      },
      "file_extension": ".py",
      "mimetype": "text/x-python",
      "name": "python",
      "nbconvert_exporter": "python",
      "pygments_lexer": "ipython3",
      "version": "3.8.8"
    }
  },
  "cells": [
    {
      "cell_type": "code",
      "metadata": {
        "colab": {
          "base_uri": "https://localhost:8080/"
        },
        "id": "4sX-CziV5tbT",
        "outputId": "0b5f74bd-1653-4075-fe1f-ed11661dfc55"
      },
      "source": [
        "from google.colab import drive\n",
        "drive.mount('/content/drive')"
      ],
      "id": "4sX-CziV5tbT",
      "execution_count": null,
      "outputs": [
        {
          "output_type": "stream",
          "name": "stdout",
          "text": [
            "Mounted at /content/drive\n"
          ]
        }
      ]
    },
    {
      "cell_type": "code",
      "metadata": {
        "id": "6x1y4vbrZYbR"
      },
      "source": [
        "import cv2\n",
        "import numpy as np\n",
        "import pandas as pd\n",
        "import os\n",
        "import joblib\n",
        "from tqdm import tqdm\n",
        "from collections import Counter\n",
        "from sklearn.neighbors import KNeighborsClassifier\n",
        "from imblearn.over_sampling import RandomOverSampler, SMOTE\n",
        "from sklearn.model_selection import train_test_split\n",
        "from sklearn.metrics import classification_report\n",
        "import matplotlib.pyplot as plt\n",
        "from sklearn.linear_model import LogisticRegression\n",
        "import torch\n",
        "import torch.nn as nn\n",
        "import torch.nn.functional as F\n",
        "from sklearn.metrics import roc_auc_score \n",
        "import joblib\n",
        "import pickle\n",
        "from torch.utils.data import DataLoader\n",
        "from sklearn.preprocessing import MinMaxScaler"
      ],
      "id": "6x1y4vbrZYbR",
      "execution_count": null,
      "outputs": []
    },
    {
      "cell_type": "code",
      "metadata": {
        "colab": {
          "base_uri": "https://localhost:8080/"
        },
        "id": "d8713c73",
        "outputId": "c416079f-9d6d-4b6f-a96a-ebc6852dde5e"
      },
      "source": [
        "df = pd.read_csv(\"/content/drive/MyDrive/trainLabels_cropped.csv\")\n",
        "image_names = df['image']\n",
        "y = df['level']\n",
        "print(Counter(y))\n",
        "\n",
        "# # C:\\Users\\jwei2\\Bioe_485_final_project\\archive\\resized_train\\resized_train\\10_left.jpeg\"\n",
        "# images = []\n",
        "# for image in tqdm(image_names):\n",
        "#     img = cv2.imread(f'C:\\\\Users\\\\jwei2\\\\Bioe_485_final_project\\\\archive\\\\resized_train_cropped\\\\resized_train_cropped\\\\{image}.jpeg')\n",
        "#     img = cv2.resize(img, (128,128))\n",
        "#     img = cv2.cvtColor(img, cv2.COLOR_BGR2GRAY)\n",
        "#     if img is not None:\n",
        "#         images.append(img)\n",
        "\n",
        "# X = np.array(images)\n",
        "# joblib.dump(X, \"X\")\n",
        "\n",
        "# print(X.shape)\n",
        "# assert 1==2\n",
        "\n",
        "X = joblib.load(\"/content/drive/MyDrive/X\")\n",
        "X = X.reshape( (X.shape[0], 128*128) )\n",
        "\n",
        "oversample = SMOTE()\n",
        "X_over, y_over = oversample.fit_resample(X, y)\n",
        "for i in range(X_over.shape[0]):\n",
        "  min = X_over[i].min(axis=0)\n",
        "  max = X_over[i].max(axis=0)\n",
        "  X_std = (X_over[i] - min) / (max - min)\n",
        "  X_over[i] = X_std * (max - min) + min\n",
        "print(\"oversampled: \",Counter(y_over))\n",
        "\n",
        "indices = np.arange(X_over.shape[0])\n",
        "train_val_indices, heldout_indices = train_test_split(indices, test_size=0.3, random_state=42, stratify=y_over)\n",
        "X_train = X_over[train_val_indices]\n",
        "y_train = y_over[train_val_indices]\n",
        "\n",
        "clf = LogisticRegression(multi_class='multinomial', solver='saga')\n",
        "clf.fit(X_train, y_train)"
      ],
      "id": "d8713c73",
      "execution_count": null,
      "outputs": [
        {
          "output_type": "stream",
          "name": "stdout",
          "text": [
            "Counter({0: 25802, 2: 5288, 1: 2438, 3: 872, 4: 708})\n",
            "oversampled:  Counter({0: 25802, 1: 25802, 2: 25802, 4: 25802, 3: 25802})\n"
          ]
        },
        {
          "output_type": "stream",
          "name": "stderr",
          "text": [
            "/usr/local/lib/python3.7/dist-packages/sklearn/linear_model/_sag.py:354: ConvergenceWarning: The max_iter was reached which means the coef_ did not converge\n",
            "  ConvergenceWarning,\n"
          ]
        },
        {
          "output_type": "execute_result",
          "data": {
            "text/plain": [
              "LogisticRegression(multi_class='multinomial', solver='saga')"
            ]
          },
          "metadata": {},
          "execution_count": 11
        }
      ]
    },
    {
      "cell_type": "code",
      "metadata": {
        "id": "e1259539"
      },
      "source": [
        "X_heldout = X_over[heldout_indices]\n",
        "y_heldout = y_over[heldout_indices]\n",
        "\n",
        "y_pred = clf.predict(X_heldout)\n",
        "y_probs = clf.predict_proba(X_heldout)"
      ],
      "id": "e1259539",
      "execution_count": null,
      "outputs": []
    },
    {
      "cell_type": "code",
      "metadata": {
        "colab": {
          "base_uri": "https://localhost:8080/"
        },
        "id": "15ddbfa0",
        "outputId": "fdae54ae-e22f-476a-dc2e-ac03c7249b21"
      },
      "source": [
        "pickle.dump(clf, open( \"/content/drive/MyDrive/logistic_regression.pkl\", \"wb\" ))\n",
        "\n",
        "print(classification_report(y_heldout, y_pred))"
      ],
      "id": "15ddbfa0",
      "execution_count": null,
      "outputs": [
        {
          "output_type": "stream",
          "name": "stdout",
          "text": [
            "              precision    recall  f1-score   support\n",
            "\n",
            "           0       0.61      0.96      0.75      7741\n",
            "           1       0.55      0.44      0.49      7740\n",
            "           2       0.44      0.31      0.37      7741\n",
            "           3       0.67      0.63      0.65      7741\n",
            "           4       0.67      0.67      0.67      7740\n",
            "\n",
            "    accuracy                           0.60     38703\n",
            "   macro avg       0.59      0.60      0.58     38703\n",
            "weighted avg       0.59      0.60      0.58     38703\n",
            "\n"
          ]
        }
      ]
    },
    {
      "cell_type": "code",
      "metadata": {
        "id": "Ux5NDM0r70oh"
      },
      "source": [
        ""
      ],
      "id": "Ux5NDM0r70oh",
      "execution_count": null,
      "outputs": []
    }
  ]
}